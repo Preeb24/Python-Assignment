{
  "nbformat": 4,
  "nbformat_minor": 0,
  "metadata": {
    "colab": {
      "name": "python Day 2.ipynb",
      "provenance": []
    },
    "kernelspec": {
      "name": "python3",
      "display_name": "Python 3"
    },
    "language_info": {
      "name": "python"
    }
  },
  "cells": [
    {
      "cell_type": "code",
      "metadata": {
        "id": "eRp4J3hu_Rxn",
        "colab": {
          "base_uri": "https://localhost:8080/"
        },
        "outputId": "c5db18bf-e08f-4c0f-a985-114d42d0edac"
      },
      "source": [
        "st = \"Beautifully\"\n",
        "  \n",
        "out = {x : st.count(x) for x in set(st )} \n",
        "  \n",
        "# printing result \n",
        "print (\"Occurrence of GeeksforGeeks is :\\n \"+ str(out)) "
      ],
      "execution_count": 21,
      "outputs": [
        {
          "output_type": "stream",
          "text": [
            "Occurrence of GeeksforGeeks is :\n",
            " {'y': 1, 'i': 1, 't': 1, 'l': 2, 'a': 1, 'B': 1, 'u': 2, 'e': 1, 'f': 1}\n"
          ],
          "name": "stdout"
        }
      ]
    }
  ]
}